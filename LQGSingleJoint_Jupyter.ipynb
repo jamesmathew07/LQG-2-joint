{
 "cells": [
  {
   "cell_type": "markdown",
   "metadata": {},
   "source": [
    "## Script LQG"
   ]
  },
  {
   "cell_type": "markdown",
   "metadata": {},
   "source": [
    "********************\n",
    "%*    Script LQG    *\n",
    "%********************\n",
    "\n",
    "Direct translation to python\n",
    "\n",
    "% Define the linear state-space representation of the system:\n",
    "%\n",
    "% x[k+1] = Ax[k] + Bu[k] + xi[k]\n",
    "%\n",
    "\n",
    "%-------------------------------------------------------------------------\n"
   ]
  },
  {
   "cell_type": "markdown",
   "metadata": {},
   "source": [
    "# Single joint reaching movement"
   ]
  },
  {
   "cell_type": "code",
   "execution_count": 20,
   "metadata": {},
   "outputs": [],
   "source": [
    "import numpy as np\n",
    "import pandas as pd\n",
    "import matplotlib.pyplot as plt"
   ]
  },
  {
   "cell_type": "code",
   "execution_count": 8,
   "metadata": {},
   "outputs": [],
   "source": [
    "G = 0.14\n",
    "I = 0.1\n",
    "tau = 0.06"
   ]
  },
  {
   "cell_type": "code",
   "execution_count": 9,
   "metadata": {},
   "outputs": [],
   "source": [
    "A = np.array([[0, 1, 0],[0, -G/I, 1/I],[0, 0, -1/tau]])\n",
    "B = np.array([[0],[0],[1/tau]])"
   ]
  },
  {
   "cell_type": "code",
   "execution_count": 10,
   "metadata": {},
   "outputs": [],
   "source": [
    "ns= np.size(A,0)\n",
    "nc= np.size(B,1)"
   ]
  },
  {
   "cell_type": "code",
   "execution_count": 11,
   "metadata": {},
   "outputs": [],
   "source": [
    "#Transformation into discrete time system: Choose a numerical integration\n",
    "delta = 0.01\n",
    "A = np.eye(ns)+delta*A\n",
    "B = delta*B"
   ]
  },
  {
   "cell_type": "code",
   "execution_count": 12,
   "metadata": {},
   "outputs": [],
   "source": [
    "#Augment the system to include a target state:\n",
    "A = np.vstack((np.hstack([A,np.zeros((ns,ns))]),np.hstack([np.zeros((ns,ns)),np.eye(ns)])))\n",
    "B = np.vstack((B,np.zeros((ns,nc))))"
   ]
  },
  {
   "cell_type": "markdown",
   "metadata": {},
   "source": []
  },
  {
   "cell_type": "markdown",
   "metadata": {},
   "source": [
    "# Define the cost-function\n",
    "\n",
    "% J(x,u) = sum x[k+1]Q[k+1]x[k+1] + u[k]R[k]u[k]"
   ]
  },
  {
   "cell_type": "code",
   "execution_count": 13,
   "metadata": {},
   "outputs": [],
   "source": [
    "rtime = 0.5\n",
    "nStep = int(rtime/delta)"
   ]
  },
  {
   "cell_type": "code",
   "execution_count": 14,
   "metadata": {},
   "outputs": [],
   "source": [
    "Q = np.zeros(((2*ns,2*ns,nStep+1)))\n",
    "R = np.power(10,-5*np.ones(((nc,nc,nStep))))"
   ]
  },
  {
   "cell_type": "code",
   "execution_count": 15,
   "metadata": {},
   "outputs": [],
   "source": [
    "# Fill in the cost of the last target\n",
    "In = np.eye(ns)\n",
    "w = np.array([1, 1, 0])\n",
    "for i in np.arange(ns):\n",
    "    ei = np.vstack((In[:,[i]], -In[:,[i]]))\n",
    "    Q[:,:,-1] = Q[:,:,-1] + w[i]*ei @ (ei.T)"
   ]
  },
  {
   "cell_type": "markdown",
   "metadata": {},
   "source": [
    "# Backwards recurrence for the optimal feedback gains"
   ]
  },
  {
   "cell_type": "code",
   "execution_count": 16,
   "metadata": {},
   "outputs": [],
   "source": [
    "S= Q\n",
    "oXi = 0.2 *B.dot(B.T)\n",
    "L = np.zeros(((nc, 2*ns, nStep)))\n",
    "s=0;"
   ]
  },
  {
   "cell_type": "code",
   "execution_count": null,
   "metadata": {},
   "outputs": [],
   "source": []
  },
  {
   "cell_type": "code",
   "execution_count": 21,
   "metadata": {},
   "outputs": [
    {
     "data": {
      "text/plain": [
       "[<matplotlib.lines.Line2D at 0x1dfcb0ee2b0>]"
      ]
     },
     "execution_count": 21,
     "metadata": {},
     "output_type": "execute_result"
    },
    {
     "data": {
      "image/png": "[encoded data removed]",
      "text/plain": [
       "<Figure size 432x288 with 1 Axes>"
      ]
     },
     "metadata": {
      "needs_background": "light"
     },
     "output_type": "display_data"
    }
   ],
   "source": [
    "for k in np.arange(nStep-1,-1,-1):\n",
    "    L[:,:,k] = (B.T @ S[:,:,k+1] @ A ) / (R[:,:,k] + B.T @ S[:,:,k+1] @ B)\n",
    "    S[:,:,k] = Q[:,:,k] + ( A.T @ S[:,:,k+1] @ (A-(B @ L[:,:,k])))\n",
    "    s= s + np.trace(S[:,:,k+1]+oXi)\n",
    "\n",
    "gain = np.zeros((2,nStep))\n",
    "\n",
    "for k in range(nStep):\n",
    "    gain[0,k] = L[0,0,k]\n",
    "    gain[1,k] = L[0,1,k]\n",
    "    \n",
    "gain2 = np.zeros((2,nStep))\n",
    "gain2[0,:] = gain[0,:]/np.ndarray.max(gain[0,:])\n",
    "gain2[1,:] = gain[1,:]/np.ndarray.max(gain[1,:])\n",
    "plt.subplot(131)\n",
    "plt.plot(np.arange(0.01,(nStep+1)*0.01,0.01), gain2[0,0:100])\n",
    "plt.plot(np.arange(0.01,(nStep+1)*0.01,0.01), gain2[1,0:100])"
   ]
  },
  {
   "cell_type": "markdown",
   "metadata": {},
   "source": [
    "## forward recurrence for the optimal kalman gain"
   ]
  },
  {
   "cell_type": "code",
   "execution_count": 22,
   "metadata": {},
   "outputs": [],
   "source": [
    "H      = np.eye(2*ns)\n",
    "ny     = np.size(H,0)\n",
    "oOmega = 0.5*np.ndarray.max(oXi)*np.eye(2*ns)\n",
    "Sigma  = oOmega\n",
    "K      = np.zeros((2*ns,ny,nStep))\n",
    "\n",
    "for k in range(nStep):\n",
    "    K[:,:,k] = (A @ Sigma @ H.T) @ (np.linalg.inv (H @ Sigma @ H.T + oOmega))\n",
    "    Sigma = oXi + (A-K[:,:,k]@ H) @ (Sigma @ A.T)"
   ]
  },
  {
   "cell_type": "markdown",
   "metadata": {},
   "source": [
    "# Simulations"
   ]
  },
  {
   "cell_type": "code",
   "execution_count": 23,
   "metadata": {},
   "outputs": [
    {
     "name": "stderr",
     "output_type": "stream",
     "text": [
      "<ipython-input-23-30fb7797abf4>:26: MatplotlibDeprecationWarning: Adding an axes using the same arguments as a previous axes currently reuses the earlier instance.  In a future version, a new instance will always be created and returned.  Meanwhile, this warning can be suppressed, and the future behavior ensured, by passing a unique label to each axes instance.\n",
      "  plt.subplot(132)\n",
      "<ipython-input-23-30fb7797abf4>:28: MatplotlibDeprecationWarning: Adding an axes using the same arguments as a previous axes currently reuses the earlier instance.  In a future version, a new instance will always be created and returned.  Meanwhile, this warning can be suppressed, and the future behavior ensured, by passing a unique label to each axes instance.\n",
      "  plt.subplot(133)\n",
      "<ipython-input-23-30fb7797abf4>:26: MatplotlibDeprecationWarning: Adding an axes using the same arguments as a previous axes currently reuses the earlier instance.  In a future version, a new instance will always be created and returned.  Meanwhile, this warning can be suppressed, and the future behavior ensured, by passing a unique label to each axes instance.\n",
      "  plt.subplot(132)\n",
      "<ipython-input-23-30fb7797abf4>:28: MatplotlibDeprecationWarning: Adding an axes using the same arguments as a previous axes currently reuses the earlier instance.  In a future version, a new instance will always be created and returned.  Meanwhile, this warning can be suppressed, and the future behavior ensured, by passing a unique label to each axes instance.\n",
      "  plt.subplot(133)\n",
      "<ipython-input-23-30fb7797abf4>:26: MatplotlibDeprecationWarning: Adding an axes using the same arguments as a previous axes currently reuses the earlier instance.  In a future version, a new instance will always be created and returned.  Meanwhile, this warning can be suppressed, and the future behavior ensured, by passing a unique label to each axes instance.\n",
      "  plt.subplot(132)\n",
      "<ipython-input-23-30fb7797abf4>:28: MatplotlibDeprecationWarning: Adding an axes using the same arguments as a previous axes currently reuses the earlier instance.  In a future version, a new instance will always be created and returned.  Meanwhile, this warning can be suppressed, and the future behavior ensured, by passing a unique label to each axes instance.\n",
      "  plt.subplot(133)\n",
      "<ipython-input-23-30fb7797abf4>:26: MatplotlibDeprecationWarning: Adding an axes using the same arguments as a previous axes currently reuses the earlier instance.  In a future version, a new instance will always be created and returned.  Meanwhile, this warning can be suppressed, and the future behavior ensured, by passing a unique label to each axes instance.\n",
      "  plt.subplot(132)\n",
      "<ipython-input-23-30fb7797abf4>:28: MatplotlibDeprecationWarning: Adding an axes using the same arguments as a previous axes currently reuses the earlier instance.  In a future version, a new instance will always be created and returned.  Meanwhile, this warning can be suppressed, and the future behavior ensured, by passing a unique label to each axes instance.\n",
      "  plt.subplot(133)\n",
      "<ipython-input-23-30fb7797abf4>:26: MatplotlibDeprecationWarning: Adding an axes using the same arguments as a previous axes currently reuses the earlier instance.  In a future version, a new instance will always be created and returned.  Meanwhile, this warning can be suppressed, and the future behavior ensured, by passing a unique label to each axes instance.\n",
      "  plt.subplot(132)\n",
      "<ipython-input-23-30fb7797abf4>:28: MatplotlibDeprecationWarning: Adding an axes using the same arguments as a previous axes currently reuses the earlier instance.  In a future version, a new instance will always be created and returned.  Meanwhile, this warning can be suppressed, and the future behavior ensured, by passing a unique label to each axes instance.\n",
      "  plt.subplot(133)\n",
      "<ipython-input-23-30fb7797abf4>:26: MatplotlibDeprecationWarning: Adding an axes using the same arguments as a previous axes currently reuses the earlier instance.  In a future version, a new instance will always be created and returned.  Meanwhile, this warning can be suppressed, and the future behavior ensured, by passing a unique label to each axes instance.\n",
      "  plt.subplot(132)\n",
      "<ipython-input-23-30fb7797abf4>:28: MatplotlibDeprecationWarning: Adding an axes using the same arguments as a previous axes currently reuses the earlier instance.  In a future version, a new instance will always be created and returned.  Meanwhile, this warning can be suppressed, and the future behavior ensured, by passing a unique label to each axes instance.\n",
      "  plt.subplot(133)\n",
      "<ipython-input-23-30fb7797abf4>:26: MatplotlibDeprecationWarning: Adding an axes using the same arguments as a previous axes currently reuses the earlier instance.  In a future version, a new instance will always be created and returned.  Meanwhile, this warning can be suppressed, and the future behavior ensured, by passing a unique label to each axes instance.\n",
      "  plt.subplot(132)\n",
      "<ipython-input-23-30fb7797abf4>:28: MatplotlibDeprecationWarning: Adding an axes using the same arguments as a previous axes currently reuses the earlier instance.  In a future version, a new instance will always be created and returned.  Meanwhile, this warning can be suppressed, and the future behavior ensured, by passing a unique label to each axes instance.\n",
      "  plt.subplot(133)\n",
      "<ipython-input-23-30fb7797abf4>:26: MatplotlibDeprecationWarning: Adding an axes using the same arguments as a previous axes currently reuses the earlier instance.  In a future version, a new instance will always be created and returned.  Meanwhile, this warning can be suppressed, and the future behavior ensured, by passing a unique label to each axes instance.\n",
      "  plt.subplot(132)\n",
      "<ipython-input-23-30fb7797abf4>:28: MatplotlibDeprecationWarning: Adding an axes using the same arguments as a previous axes currently reuses the earlier instance.  In a future version, a new instance will always be created and returned.  Meanwhile, this warning can be suppressed, and the future behavior ensured, by passing a unique label to each axes instance.\n",
      "  plt.subplot(133)\n",
      "<ipython-input-23-30fb7797abf4>:26: MatplotlibDeprecationWarning: Adding an axes using the same arguments as a previous axes currently reuses the earlier instance.  In a future version, a new instance will always be created and returned.  Meanwhile, this warning can be suppressed, and the future behavior ensured, by passing a unique label to each axes instance.\n",
      "  plt.subplot(132)\n",
      "<ipython-input-23-30fb7797abf4>:28: MatplotlibDeprecationWarning: Adding an axes using the same arguments as a previous axes currently reuses the earlier instance.  In a future version, a new instance will always be created and returned.  Meanwhile, this warning can be suppressed, and the future behavior ensured, by passing a unique label to each axes instance.\n",
      "  plt.subplot(133)\n"
     ]
    },
    {
     "data": {
      "image/png": "[encoded data removed]",
      "text/plain": [
       "<Figure size 432x288 with 2 Axes>"
      ]
     },
     "metadata": {
      "needs_background": "light"
     },
     "output_type": "display_data"
    }
   ],
   "source": [
    "nsimu     = 10\n",
    "x         = np.zeros(((2*ns,nStep+1,nsimu)))\n",
    "xhat      = x\n",
    "control   = np.zeros(((nc,nStep,nsimu)))\n",
    "avControl = np.zeros((nc,nStep))\n",
    "\n",
    "\n",
    "\n",
    "#range(nsimu):\n",
    "for p in range(nsimu):\n",
    "    x[ns:,0,p] = np.array([20*np.pi/180,0,0])\n",
    "    \n",
    "    for k in range(nStep):\n",
    "        motorNoise   = np.random.multivariate_normal(np.zeros(2*ns),oXi)\n",
    "        sensorynoise = np.random.multivariate_normal(np.zeros(2*ns),oOmega)\n",
    "        u              = -L[:,:,k] @ x[:,k,p]\n",
    "        y              = (H @ x[:,k,p] )+ sensorynoise\n",
    "        xhat[:,k+1,p]  = (A @ xhat[:,k,p]) + (B @ u) + (K[:,:,k] @ (y- (H @ xhat[:,k,p])))\n",
    "        x[:,k+1,p]     = (A @ x[:,k,p]) + (B @ u) + motorNoise\n",
    "        control[:,k,p] = u\n",
    "        #plt.subplot(132)\n",
    "        #plt.plot(k*0.01, x[0,k,p]*180/np.pi)\n",
    "        #plt.pause(0.05)\n",
    "\n",
    "    avControl = avControl +control[:,:,p]/nsimu\n",
    "    plt.subplot(132)\n",
    "    plt.plot(np.arange(0.01,(nStep+2)*0.01,0.01), x[0,:,p]*180/np.pi)\n",
    "    plt.subplot(133)\n",
    "    plt.plot(np.arange(0.01,(nStep+1)*0.01,0.01), control[0,:,p])"
   ]
  },
  {
   "cell_type": "code",
   "execution_count": null,
   "metadata": {},
   "outputs": [],
   "source": []
  },
  {
   "cell_type": "code",
   "execution_count": null,
   "metadata": {},
   "outputs": [],
   "source": []
  }
 ],
 "metadata": {
  "kernelspec": {
   "display_name": "Python 3",
   "language": "python",
   "name": "python3"
  },
  "language_info": {
   "codemirror_mode": {
    "name": "ipython",
    "version": 3
   },
   "file_extension": ".py",
   "mimetype": "text/x-python",
   "name": "python",
   "nbconvert_exporter": "python",
   "pygments_lexer": "ipython3",
   "version": "3.8.3"
  },
  "varInspector": {
   "cols": {
    "lenName": 16,
    "lenType": 16,
    "lenVar": 40
   },
   "kernels_config": {
    "python": {
     "delete_cmd_postfix": "",
     "delete_cmd_prefix": "del ",
     "library": "var_list.py",
     "varRefreshCmd": "print(var_dic_list())"
    },
    "r": {
     "delete_cmd_postfix": ") ",
     "delete_cmd_prefix": "rm(",
     "library": "var_list.r",
     "varRefreshCmd": "cat(var_dic_list()) "
    }
   },
   "types_to_exclude": [
    "module",
    "function",
    "builtin_function_or_method",
    "instance",
    "_Feature"
   ],
   "window_display": false
  }
 },
 "nbformat": 4,
 "nbformat_minor": 4
}
